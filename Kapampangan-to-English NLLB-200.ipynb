{
 "cells": [
  {
   "cell_type": "markdown",
   "id": "0920e692",
   "metadata": {},
   "source": [
    "# === Kapampangan-to-English NLLB-200 Training Pipeline (with <kap> tag) ==="
   ]
  },
  {
   "cell_type": "code",
   "execution_count": null,
   "id": "fbb73aaa",
   "metadata": {},
   "outputs": [],
   "source": [
    "import pandas as pd\n",
    "from datasets import Dataset\n",
    "from transformers import (\n",
    "    AutoTokenizer,\n",
    "    AutoModelForSeq2SeqLM\n",
    ")\n",
    "from transformers.trainer_seq2seq import Seq2SeqTrainer\n",
    "from transformers.training_args_seq2seq import Seq2SeqTrainingArguments\n",
    "from transformers.data.data_collator import DataCollatorForSeq2Seq\n",
    "import torch\n",
    "import evaluate"
   ]
  },
  {
   "cell_type": "markdown",
   "id": "57188df0",
   "metadata": {},
   "source": [
    "# === 1. Config ==="
   ]
  },
  {
   "cell_type": "code",
   "execution_count": null,
   "id": "ec6a97df",
   "metadata": {},
   "outputs": [],
   "source": [
    "CSV_PATH = \"data/kapampangan_english.csv\"\n",
    "MODEL_NAME = \"facebook/nllb-200-distilled-600M\"  # NLLB model\n",
    "MODEL_DIR = \"./kapampangan_mt_nllb\"\n",
    "\n",
    "SPECIAL_SRC_TOKEN = \"<kap>\"   \n",
    "TGT_LANG = \"eng_Latn\"   "
   ]
  },
  {
   "cell_type": "markdown",
   "id": "215a3088",
   "metadata": {},
   "source": [
    "# === 2. Load CSV ==="
   ]
  },
  {
   "cell_type": "code",
   "execution_count": null,
   "id": "0206e139",
   "metadata": {},
   "outputs": [],
   "source": [
    "df = pd.read_csv(CSV_PATH)\n",
    "df = df.rename(columns={\"kapampangan\": \"src_text\", \"english\": \"tgt_text\"})\n",
    "df = df.dropna(subset=[\"src_text\", \"tgt_text\"])"
   ]
  },
  {
   "cell_type": "markdown",
   "id": "2fa01e85",
   "metadata": {},
   "source": [
    "# === 3. Convert to HF Dataset ==="
   ]
  },
  {
   "cell_type": "code",
   "execution_count": null,
   "id": "db28d226",
   "metadata": {},
   "outputs": [],
   "source": [
    "dataset = Dataset.from_pandas(df[[\"src_text\", \"tgt_text\"]])\n",
    "dataset = dataset.train_test_split(test_size=0.2, seed=42)"
   ]
  },
  {
   "cell_type": "markdown",
   "id": "bcb4569c",
   "metadata": {},
   "source": [
    "# === 4. Load Tokenizer & Model ==="
   ]
  },
  {
   "cell_type": "code",
   "execution_count": null,
   "id": "efd264c0",
   "metadata": {},
   "outputs": [],
   "source": [
    "tokenizer = AutoTokenizer.from_pretrained(MODEL_NAME, src_lang=\"eng_Latn\")  # temp placeholder\n",
    "model = AutoModelForSeq2SeqLM.from_pretrained(MODEL_NAME)\n",
    "\n",
    "# Add <kap> as a special token\n",
    "tokenizer.add_special_tokens({'additional_special_tokens': [SPECIAL_SRC_TOKEN]})\n",
    "model.resize_token_embeddings(len(tokenizer))"
   ]
  },
  {
   "cell_type": "markdown",
   "id": "8a50c0a5",
   "metadata": {},
   "source": [
    "# === 5. Preprocess ==="
   ]
  },
  {
   "cell_type": "code",
   "execution_count": null,
   "id": "bb0e991c",
   "metadata": {},
   "outputs": [],
   "source": [
    "def preprocess(examples):\n",
    "    # Prepend <kap> tag to source text\n",
    "    src_texts = [f\"{SPECIAL_SRC_TOKEN} {text}\" for text in examples[\"src_text\"]]\n",
    "    \n",
    "    # Tokenize source\n",
    "    model_inputs = tokenizer(\n",
    "        src_texts,\n",
    "        truncation=True,\n",
    "        padding=\"max_length\",\n",
    "        max_length=128\n",
    "    )\n",
    "\n",
    "    # Tokenize target (English)\n",
    "    with tokenizer.as_target_tokenizer():\n",
    "        labels = tokenizer(\n",
    "            examples[\"tgt_text\"],\n",
    "            truncation=True,\n",
    "            padding=\"max_length\",\n",
    "            max_length=128\n",
    "        )\n",
    "\n",
    "    # Replace pad token IDs in labels with -100\n",
    "    labels_input_ids = [\n",
    "        [(t if t != tokenizer.pad_token_id else -100) for t in label]\n",
    "        for label in labels[\"input_ids\"]\n",
    "    ]\n",
    "    model_inputs[\"labels\"] = labels_input_ids\n",
    "\n",
    "    return model_inputs\n",
    "\n",
    "tokenized_dataset = dataset.map(preprocess, batched=True)"
   ]
  },
  {
   "cell_type": "markdown",
   "id": "760f518c",
   "metadata": {},
   "source": [
    "# === 6. Training Args ==="
   ]
  },
  {
   "cell_type": "markdown",
   "id": "740d40d4",
   "metadata": {},
   "source": [
    "training_args = Seq2SeqTrainingArguments(\n",
    "    output_dir=MODEL_DIR,\n",
    "    learning_rate=1e-4,\n",
    "    per_device_train_batch_size=4,\n",
    "    per_device_eval_batch_size=4,\n",
    "    num_train_epochs=15,\n",
    "    weight_decay=0.01,\n",
    "    predict_with_generate=True,\n",
    "    save_total_limit=2,\n",
    "    logging_dir=\"./logs\",\n",
    "    evaluation_strategy=\"epoch\",\n",
    "    logging_strategy=\"epoch\",\n",
    "    save_strategy=\"epoch\",\n",
    "    fp16=torch.cuda.is_available(),\n",
    ")"
   ]
  },
  {
   "cell_type": "markdown",
   "id": "c8d853e4",
   "metadata": {},
   "source": [
    "# === 7. Trainer ==="
   ]
  },
  {
   "cell_type": "code",
   "execution_count": null,
   "id": "f79487ec",
   "metadata": {},
   "outputs": [],
   "source": [
    "data_collator = DataCollatorForSeq2Seq(tokenizer=tokenizer, model=model)\n",
    "trainer = Seq2SeqTrainer(\n",
    "    model=model,\n",
    "    args=training_args,\n",
    "    train_dataset=tokenized_dataset[\"train\"],\n",
    "    eval_dataset=tokenized_dataset[\"test\"],\n",
    "    data_collator=data_collator,\n",
    ")"
   ]
  },
  {
   "cell_type": "markdown",
   "id": "94068b3b",
   "metadata": {},
   "source": [
    "# === 8. Train ==="
   ]
  },
  {
   "cell_type": "code",
   "execution_count": null,
   "id": "27f2d1fc",
   "metadata": {},
   "outputs": [],
   "source": [
    "trainer.train()"
   ]
  },
  {
   "cell_type": "markdown",
   "id": "b2dd79ae",
   "metadata": {},
   "source": [
    "# === 9. Save ==="
   ]
  },
  {
   "cell_type": "code",
   "execution_count": null,
   "id": "8c64989f",
   "metadata": {},
   "outputs": [],
   "source": [
    "trainer.save_model(MODEL_DIR)\n",
    "tokenizer.save_pretrained(MODEL_DIR)\n",
    "print(f\"✅ Model saved to: {MODEL_DIR}\")"
   ]
  },
  {
   "cell_type": "markdown",
   "id": "55379746",
   "metadata": {},
   "source": [
    "# === 10. Translation Function ==="
   ]
  },
  {
   "cell_type": "code",
   "execution_count": null,
   "id": "c3ccacd4",
   "metadata": {},
   "outputs": [],
   "source": [
    "def kapampangan_translate(text):\n",
    "    device = torch.device(\"cuda\" if torch.cuda.is_available() else \"cpu\")\n",
    "    model.to(device)\n",
    "    src_text = f\"{SPECIAL_SRC_TOKEN} {text}\"\n",
    "    inputs = tokenizer(src_text, return_tensors=\"pt\", padding=True, truncation=True, max_length=128).to(device)\n",
    "    with torch.no_grad():\n",
    "        outputs = model.generate(\n",
    "            **inputs,\n",
    "            forced_bos_token_id=tokenizer.convert_tokens_to_ids(TGT_LANG)  # Force English output\n",
    "        )\n",
    "    return tokenizer.decode(outputs[0], skip_special_tokens=True)"
   ]
  },
  {
   "cell_type": "markdown",
   "id": "5f8ea2d2",
   "metadata": {},
   "source": [
    "# === 11. Evaluate BLEU ==="
   ]
  },
  {
   "cell_type": "code",
   "execution_count": null,
   "id": "b0d444b6",
   "metadata": {},
   "outputs": [],
   "source": [
    "print(\"\\n--- Evaluating BLEU Score ---\")\n",
    "bleu = evaluate.load(\"bleu\")\n",
    "\n",
    "preds = [kapampangan_translate(x) for x in df[\"src_text\"]]\n",
    "refs = [[x] for x in df[\"tgt_text\"]]\n",
    "\n",
    "bleu_score = bleu.compute(predictions=preds, references=refs)\n",
    "print(\" BLEU Score:\", bleu_score)\n"
   ]
  },
  {
   "cell_type": "markdown",
   "id": "83331cbf",
   "metadata": {},
   "source": [
    "# === 12. Manual Test ==="
   ]
  },
  {
   "cell_type": "code",
   "execution_count": null,
   "id": "41e8f013",
   "metadata": {},
   "outputs": [],
   "source": [
    "print(\"\\n--- Manual Test ---\")\n",
    "sample_texts = [\n",
    "    \"Ali ku balu\",\n",
    "    \"Anya ka?\",\n",
    "    \"Masanting ya ing panaun ngeni\",\n",
    "    \"E ku makanyan\",\n",
    "]\n",
    "\n",
    "for i, kap_text in enumerate(sample_texts):\n",
    "    translated = kapampangan_translate(kap_text)\n",
    "    print(f\"[{i+1}] Kapampangan: {kap_text}\")\n",
    "    print(f\"    ➤ English: {translated}\")\n"
   ]
  }
 ],
 "metadata": {
  "kernelspec": {
   "display_name": "Python 3",
   "language": "python",
   "name": "python3"
  },
  "language_info": {
   "codemirror_mode": {
    "name": "ipython",
    "version": 3
   },
   "file_extension": ".py",
   "mimetype": "text/x-python",
   "name": "python",
   "nbconvert_exporter": "python",
   "pygments_lexer": "ipython3",
   "version": "3.11.9"
  }
 },
 "nbformat": 4,
 "nbformat_minor": 5
}

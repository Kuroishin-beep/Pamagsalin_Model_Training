{
 "cells": [
  {
   "cell_type": "markdown",
   "id": "ecae4f53",
   "metadata": {},
   "source": [
    "## 1. Configuration and Imports"
   ]
  },
  {
   "cell_type": "code",
   "execution_count": null,
   "id": "130e77cf",
   "metadata": {},
   "outputs": [],
   "source": [
    "\n",
    "import pandas as pd\n",
    "from datasets import Dataset\n",
    "from transformers import (\n",
    "    MarianTokenizer,\n",
    "    MarianMTModel,\n",
    ")\n",
    "from transformers.trainer_seq2seq import Seq2SeqTrainer\n",
    "from transformers.training_args_seq2seq import Seq2SeqTrainingArguments\n",
    "from transformers.data.data_collator import DataCollatorForSeq2Seq\n",
    "import torch\n",
    "import evaluate\n",
    "\n",
    "CSV_PATH = \"data/kapampangan_english.csv\"\n",
    "MODEL_NAME = \"Helsinki-NLP/opus-mt-en-ROMANCE\"\n",
    "MODEL_DIR = \"./kapampangan_mt_model\""
   ]
  },
  {
   "cell_type": "markdown",
   "id": "6f6d0b0e",
   "metadata": {},
   "source": [
    "## 2. Load and Clean CSV"
   ]
  },
  {
   "cell_type": "code",
   "execution_count": null,
   "id": "df30c9b7",
   "metadata": {},
   "outputs": [],
   "source": [
    "df = pd.read_csv(CSV_PATH)\n",
    "df = df.rename(columns={\"kapampangan\": \"src_text\", \"english\": \"tgt_text\"})\n",
    "df = df.dropna(subset=[\"src_text\", \"tgt_text\"])"
   ]
  },
  {
   "cell_type": "markdown",
   "id": "d5a92ced",
   "metadata": {},
   "source": [
    "## 3. Convert to Hugging Face Dataset"
   ]
  },
  {
   "cell_type": "code",
   "execution_count": null,
   "id": "f8e4f031",
   "metadata": {},
   "outputs": [],
   "source": [
    "dataset = Dataset.from_pandas(df[[\"src_text\", \"tgt_text\"]])\n",
    "dataset = dataset.train_test_split(test_size=0.2, seed=42)"
   ]
  },
  {
   "cell_type": "markdown",
   "id": "e435a9e9",
   "metadata": {},
   "source": [
    "## 4. Load Tokenizer and Base Model"
   ]
  },
  {
   "cell_type": "code",
   "execution_count": null,
   "id": "d269a576",
   "metadata": {},
   "outputs": [],
   "source": [
    "tokenizer = MarianTokenizer.from_pretrained(MODEL_NAME)\n",
    "model = MarianMTModel.from_pretrained(MODEL_NAME)"
   ]
  },
  {
   "cell_type": "markdown",
   "id": "fdec8338",
   "metadata": {},
   "source": [
    "## 5. Tokenization Function"
   ]
  },
  {
   "cell_type": "code",
   "execution_count": null,
   "id": "b2341f11",
   "metadata": {},
   "outputs": [],
   "source": [
    "def preprocess(example):\n",
    "    model_inputs = tokenizer(\n",
    "        example[\"src_text\"],\n",
    "        truncation=True,\n",
    "        padding=\"max_length\",\n",
    "        max_length=128\n",
    "    )\n",
    "    with tokenizer.as_target_tokenizer():\n",
    "        labels = tokenizer(\n",
    "            example[\"tgt_text\"],\n",
    "            truncation=True,\n",
    "            padding=\"max_length\",\n",
    "            max_length=128\n",
    "        )\n",
    "    model_inputs[\"labels\"] = labels[\"input_ids\"]\n",
    "    return model_inputs\n",
    "\n",
    "tokenized_dataset = dataset.map(preprocess, batched=True)"
   ]
  },
  {
   "cell_type": "markdown",
   "id": "b5c68a01",
   "metadata": {},
   "source": [
    "## 6. Define Training Arguments"
   ]
  },
  {
   "cell_type": "code",
   "execution_count": null,
   "id": "9bc4edca",
   "metadata": {},
   "outputs": [],
   "source": [
    "training_args = Seq2SeqTrainingArguments(\n",
    "    output_dir=MODEL_DIR,\n",
    "    learning_rate=5e-6,\n",
    "    per_device_train_batch_size=4,\n",
    "    per_device_eval_batch_size=4,\n",
    "    num_train_epochs=30,\n",
    "    weight_decay=0.01,\n",
    "    predict_with_generate=True,\n",
    "    save_total_limit=2,\n",
    "    logging_dir=\"./logs\",\n",
    "    evaluation_strategy=\"epoch\",\n",
    "    logging_strategy=\"epoch\",\n",
    "    save_strategy=\"epoch\",\n",
    "    fp16=torch.cuda.is_available(),\n",
    ")\n"
   ]
  },
  {
   "cell_type": "markdown",
   "id": "c485608f",
   "metadata": {},
   "source": [
    "## 7. Trainer Setup"
   ]
  },
  {
   "cell_type": "code",
   "execution_count": null,
   "id": "e9bc4723",
   "metadata": {},
   "outputs": [],
   "source": [
    "data_collator = DataCollatorForSeq2Seq(tokenizer=tokenizer, model=model)\n",
    "trainer = Seq2SeqTrainer(\n",
    "    model=model,\n",
    "    args=training_args,\n",
    "    train_dataset=tokenized_dataset[\"train\"],\n",
    "    eval_dataset=tokenized_dataset[\"test\"],\n",
    "    data_collator=data_collator,\n",
    ")"
   ]
  },
  {
   "cell_type": "markdown",
   "id": "9982fbbb",
   "metadata": {},
   "source": [
    "## 8. Train the Model"
   ]
  },
  {
   "cell_type": "code",
   "execution_count": null,
   "id": "6d8bd311",
   "metadata": {},
   "outputs": [],
   "source": [
    "trainer.train()"
   ]
  },
  {
   "cell_type": "markdown",
   "id": "ed7d51b4",
   "metadata": {},
   "source": [
    "## 9. Save Final Model"
   ]
  },
  {
   "cell_type": "code",
   "execution_count": null,
   "id": "fe8ef012",
   "metadata": {},
   "outputs": [],
   "source": [
    "trainer.save_model(MODEL_DIR)\n",
    "tokenizer.save_pretrained(MODEL_DIR)\n",
    "print(f\"✅ Model saved to: {MODEL_DIR}\")"
   ]
  },
  {
   "cell_type": "markdown",
   "id": "90f44399",
   "metadata": {},
   "source": [
    "## 10. Define Translation Function"
   ]
  },
  {
   "cell_type": "code",
   "execution_count": null,
   "id": "dbf9ea8e",
   "metadata": {},
   "outputs": [],
   "source": [
    "def kapampangan_translate(text):\n",
    "    device = torch.device(\"cuda\" if torch.cuda.is_available() else \"cpu\")\n",
    "    model.to(device)\n",
    "    inputs = tokenizer(text, return_tensors=\"pt\", padding=True, truncation=True, max_length=128)\n",
    "    inputs = {k: v.to(device) for k, v in inputs.items()}\n",
    "    with torch.no_grad():\n",
    "        outputs = model.generate(**inputs)\n",
    "    return tokenizer.decode(outputs[0], skip_special_tokens=True)"
   ]
  },
  {
   "cell_type": "markdown",
   "id": "ae669cc0",
   "metadata": {},
   "source": [
    "## 11. Evaluate BLEU Score"
   ]
  },
  {
   "cell_type": "code",
   "execution_count": null,
   "id": "bd796f05",
   "metadata": {},
   "outputs": [],
   "source": []
  },
  {
   "cell_type": "code",
   "execution_count": null,
   "id": "4a05cebb",
   "metadata": {},
   "outputs": [],
   "source": [
    "print(\"\\n--- Evaluating BLEU Score ---\")\n",
    "bleu = evaluate.load(\"bleu\")\n",
    "\n",
    "preds = [kapampangan_translate(x) for x in df[\"src_text\"]]\n",
    "refs = [[x] for x in df[\"tgt_text\"]]\n",
    "\n",
    "bleu_score = bleu.compute(predictions=preds, references=refs)\n",
    "print(\" BLEU Score:\", bleu_score)"
   ]
  },
  {
   "cell_type": "markdown",
   "id": "b1df5de5",
   "metadata": {},
   "source": [
    "## 12. Manual Translation Test"
   ]
  },
  {
   "cell_type": "code",
   "execution_count": null,
   "id": "082f71a0",
   "metadata": {},
   "outputs": [],
   "source": [
    "print(\"\\n--- Manual Test ---\")\n",
    "sample_texts = [\n",
    "    \"Ali ku balu\",\n",
    "    \"Anya ka?\",\n",
    "    \"Masanting ya ing panaun ngeni\",\n",
    "    \"E ku makanyan\",\n",
    "]\n",
    "\n",
    "for i, kap_text in enumerate(sample_texts):\n",
    "    translated = kapampangan_translate(kap_text)\n",
    "    print(f\"[{i+1}] Kapampangan: {kap_text}\")\n",
    "    print(f\"    \\u27a4 English: {translated}\")"
   ]
  }
 ],
 "metadata": {
  "kernelspec": {
   "display_name": "Python 3",
   "language": "python",
   "name": "python3"
  },
  "language_info": {
   "name": "python",
   "version": "3.11.9"
  }
 },
 "nbformat": 4,
 "nbformat_minor": 5
}
